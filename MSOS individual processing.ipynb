{
 "cells": [
  {
   "cell_type": "markdown",
   "id": "9b3cc03d",
   "metadata": {},
   "source": [
    "This notebook is meant to be used to merge the various csv files into a single, coherent one. There will be a seperate notebook to run the dataframes to create one single visualization for all five samples (there is a visualization at the bottom if you want to check out your data). \n"
   ]
  },
  {
   "cell_type": "markdown",
   "id": "646ec318",
   "metadata": {},
   "source": [
    "# Importing Libraries\n",
    "you need to run this everytime when you open this file"
   ]
  },
  {
   "cell_type": "code",
   "execution_count": 1,
   "id": "f34b8c01",
   "metadata": {},
   "outputs": [],
   "source": [
    "import numpy as np\n",
    "import pandas as pd\n",
    "import datetime\n",
    "from datetime import datetime\n",
    "\n",
    "# next command ensures that plots appear inside the notebook\n",
    "%matplotlib inline\n",
    "import matplotlib.pyplot as plt\n",
    "import seaborn as sns\n",
    "sns.set()  # set Seaborn defaults\n",
    "plt.rcParams['figure.figsize'] = 12, 5  # default hor./vert. size of plots, in inches\n",
    "plt.rcParams['lines.markeredgewidth'] = 1  # to fix issue with seaborn box plots; needed after import seaborn\n",
    "\n",
    "import warnings\n",
    "warnings.filterwarnings('ignore')"
   ]
  },
  {
   "cell_type": "markdown",
   "id": "d425422d",
   "metadata": {},
   "source": [
    "# Loading the dataframes\n",
    "It may be that you have multiple csv files for temperature or for the heartrate. This next code is meant to help you load and merge the files. \n",
    "\n",
    "(Note: this code assumes that the amount of columns and their names are the same.)\n",
    "\n",
    "## Temperature"
   ]
  },
  {
   "cell_type": "code",
   "execution_count": 2,
   "id": "02a8e5a3",
   "metadata": {},
   "outputs": [
    {
     "name": "stderr",
     "output_type": "stream",
     "text": [
      "b'Skipping line 4: expected 11 fields, saw 16\\nSkipping line 6: expected 11 fields, saw 45\\n'\n"
     ]
    },
    {
     "data": {
      "text/html": [
       "<div>\n",
       "<style scoped>\n",
       "    .dataframe tbody tr th:only-of-type {\n",
       "        vertical-align: middle;\n",
       "    }\n",
       "\n",
       "    .dataframe tbody tr th {\n",
       "        vertical-align: top;\n",
       "    }\n",
       "\n",
       "    .dataframe thead th {\n",
       "        text-align: right;\n",
       "    }\n",
       "</style>\n",
       "<table border=\"1\" class=\"dataframe\">\n",
       "  <thead>\n",
       "    <tr style=\"text-align: right;\">\n",
       "      <th></th>\n",
       "      <th>Date/Time</th>\n",
       "      <th>Temperature</th>\n",
       "    </tr>\n",
       "  </thead>\n",
       "  <tbody>\n",
       "    <tr>\n",
       "      <th>0</th>\n",
       "      <td>15-5-2022 T 20:48:15</td>\n",
       "      <td>25.4</td>\n",
       "    </tr>\n",
       "    <tr>\n",
       "      <th>1</th>\n",
       "      <td>15-5-2022 T 20:48:26</td>\n",
       "      <td>25.3</td>\n",
       "    </tr>\n",
       "    <tr>\n",
       "      <th>2</th>\n",
       "      <td>15-5-2022 T 20:48:37</td>\n",
       "      <td>25.3</td>\n",
       "    </tr>\n",
       "    <tr>\n",
       "      <th>3</th>\n",
       "      <td>15-5-2022 T 20:48:48</td>\n",
       "      <td>25.3</td>\n",
       "    </tr>\n",
       "    <tr>\n",
       "      <th>4</th>\n",
       "      <td>15-5-2022 T 20:48:59</td>\n",
       "      <td>25.2</td>\n",
       "    </tr>\n",
       "  </tbody>\n",
       "</table>\n",
       "</div>"
      ],
      "text/plain": [
       "               Date/Time Temperature\n",
       "0  15-5-2022 T 20:48:15         25.4\n",
       "1  15-5-2022 T 20:48:26         25.3\n",
       "2  15-5-2022 T 20:48:37         25.3\n",
       "3  15-5-2022 T 20:48:48         25.3\n",
       "4  15-5-2022 T 20:48:59         25.2"
      ]
     },
     "execution_count": 2,
     "metadata": {},
     "output_type": "execute_result"
    }
   ],
   "source": [
    "df_t1 = pd.read_csv('./datasets/temperature1.csv', error_bad_lines=False) #Loading temp csv file 1 - make sure the location and name is correct. \n",
    "\n",
    "df_t2 = pd.read_csv('./datasets/temperature2.csv', error_bad_lines=False) #loading temp csv file 2 - make sure the location and name is correct.  \n",
    "\n",
    "#if you have more, duplicate the line above and change the csv location and name of dataframe\n",
    "#if you only have one, comment out the line with df_t2 in it\n",
    "\n",
    "df_temporary = pd.concat([df_t1, df_t2]) #if you only have one csv for temperature, comment this line out\n",
    "\n",
    "df_temp=pd.DataFrame()\n",
    "\n",
    "df_temp['Date/Time']=df_temporary['Date/Time'] #if you only have one csv for temperature, replace df_temporary with df_t1\n",
    "df_temp['Temperature']=df_temporary[' Temperature'] #if you only have one csv for temperature, replace df_temporary with df_t1\n",
    "\n",
    "df_temp.head() #check if it is correct"
   ]
  },
  {
   "cell_type": "markdown",
   "id": "fe51f31d",
   "metadata": {},
   "source": [
    "## Heartrate"
   ]
  },
  {
   "cell_type": "code",
   "execution_count": 3,
   "id": "ab909934",
   "metadata": {},
   "outputs": [
    {
     "data": {
      "text/html": [
       "<div>\n",
       "<style scoped>\n",
       "    .dataframe tbody tr th:only-of-type {\n",
       "        vertical-align: middle;\n",
       "    }\n",
       "\n",
       "    .dataframe tbody tr th {\n",
       "        vertical-align: top;\n",
       "    }\n",
       "\n",
       "    .dataframe thead th {\n",
       "        text-align: right;\n",
       "    }\n",
       "</style>\n",
       "<table border=\"1\" class=\"dataframe\">\n",
       "  <thead>\n",
       "    <tr style=\"text-align: right;\">\n",
       "      <th></th>\n",
       "      <th>date</th>\n",
       "      <th>time</th>\n",
       "      <th>heartRate</th>\n",
       "    </tr>\n",
       "  </thead>\n",
       "  <tbody>\n",
       "    <tr>\n",
       "      <th>0</th>\n",
       "      <td>14/05/2022</td>\n",
       "      <td>00:00</td>\n",
       "      <td>74</td>\n",
       "    </tr>\n",
       "    <tr>\n",
       "      <th>1</th>\n",
       "      <td>14/05/2022</td>\n",
       "      <td>00:01</td>\n",
       "      <td>78</td>\n",
       "    </tr>\n",
       "    <tr>\n",
       "      <th>2</th>\n",
       "      <td>14/05/2022</td>\n",
       "      <td>00:02</td>\n",
       "      <td>79</td>\n",
       "    </tr>\n",
       "    <tr>\n",
       "      <th>3</th>\n",
       "      <td>14/05/2022</td>\n",
       "      <td>00:03</td>\n",
       "      <td>79</td>\n",
       "    </tr>\n",
       "    <tr>\n",
       "      <th>4</th>\n",
       "      <td>14/05/2022</td>\n",
       "      <td>00:04</td>\n",
       "      <td>90</td>\n",
       "    </tr>\n",
       "  </tbody>\n",
       "</table>\n",
       "</div>"
      ],
      "text/plain": [
       "         date   time  heartRate\n",
       "0  14/05/2022  00:00         74\n",
       "1  14/05/2022  00:01         78\n",
       "2  14/05/2022  00:02         79\n",
       "3  14/05/2022  00:03         79\n",
       "4  14/05/2022  00:04         90"
      ]
     },
     "execution_count": 3,
     "metadata": {},
     "output_type": "execute_result"
    }
   ],
   "source": [
    "df_h1 = pd.read_csv('./datasets/heart1.csv') #Loading heart csv file 1 - make sure the location and name is correct. \n",
    "\n",
    "df_h2 = pd.read_csv('./datasets/heart2.csv') #loading heart csv file 2 - make sure the location and name is correct.  \n",
    "\n",
    "#if you have more, duplicate the line above and change the csv location and name of dataframe\n",
    "#if you only have one, comment out the line with df_h2 in it\n",
    "\n",
    "df_heart = pd.concat([df_h1, df_h2]) #merging heartrate dataframes, if you only have one csv file, comment this out\n",
    "\n",
    "# df_heart=df_h1 #if you have only one csv file, comment this in\n",
    "\n",
    "df_heart.head()"
   ]
  },
  {
   "cell_type": "markdown",
   "id": "ee690781",
   "metadata": {},
   "source": [
    "# Cleaning and grouping the datasets\n",
    "\n",
    "## Temperature\n",
    "\n",
    "I've been measuring the temperature more frequently than 1 min so this code will also help group the temperature to every minute. "
   ]
  },
  {
   "cell_type": "code",
   "execution_count": 4,
   "id": "2fc4d6d6",
   "metadata": {},
   "outputs": [
    {
     "data": {
      "text/html": [
       "<div>\n",
       "<style scoped>\n",
       "    .dataframe tbody tr th:only-of-type {\n",
       "        vertical-align: middle;\n",
       "    }\n",
       "\n",
       "    .dataframe tbody tr th {\n",
       "        vertical-align: top;\n",
       "    }\n",
       "\n",
       "    .dataframe thead th {\n",
       "        text-align: right;\n",
       "    }\n",
       "</style>\n",
       "<table border=\"1\" class=\"dataframe\">\n",
       "  <thead>\n",
       "    <tr style=\"text-align: right;\">\n",
       "      <th></th>\n",
       "      <th>Temperature</th>\n",
       "    </tr>\n",
       "    <tr>\n",
       "      <th>Date/Time</th>\n",
       "      <th></th>\n",
       "    </tr>\n",
       "  </thead>\n",
       "  <tbody>\n",
       "    <tr>\n",
       "      <th>2022-05-15 20:48:00</th>\n",
       "      <td>25.30</td>\n",
       "    </tr>\n",
       "    <tr>\n",
       "      <th>2022-05-15 20:49:00</th>\n",
       "      <td>25.16</td>\n",
       "    </tr>\n",
       "    <tr>\n",
       "      <th>2022-05-15 20:50:00</th>\n",
       "      <td>25.05</td>\n",
       "    </tr>\n",
       "    <tr>\n",
       "      <th>2022-05-15 20:51:00</th>\n",
       "      <td>25.00</td>\n",
       "    </tr>\n",
       "    <tr>\n",
       "      <th>2022-05-15 20:52:00</th>\n",
       "      <td>24.90</td>\n",
       "    </tr>\n",
       "  </tbody>\n",
       "</table>\n",
       "</div>"
      ],
      "text/plain": [
       "                     Temperature\n",
       "Date/Time                       \n",
       "2022-05-15 20:48:00        25.30\n",
       "2022-05-15 20:49:00        25.16\n",
       "2022-05-15 20:50:00        25.05\n",
       "2022-05-15 20:51:00        25.00\n",
       "2022-05-15 20:52:00        24.90"
      ]
     },
     "execution_count": 4,
     "metadata": {},
     "output_type": "execute_result"
    }
   ],
   "source": [
    "df_temp=df_temp[df_temp[\"Date/Time\"].str.contains(\"Date/Time\")==False] #should remove extra column names in the rows\n",
    "\n",
    "df_temp['Date/Time'] = pd.to_datetime(df_temp['Date/Time']) #converting date and time to the correct format\n",
    "\n",
    "df_temp.dropna(inplace=True) #dropping invalid values\n",
    "\n",
    "df_temp['Temperature']=pd.to_numeric(df_temp['Temperature'], errors='coerce')\n",
    "\n",
    "df_temp=df_temp.groupby(pd.Grouper(key='Date/Time', axis=0, freq='1min')).mean() #groups to 1 min\n",
    "\n",
    "df_temp.head() #check to see if it is set correctly"
   ]
  },
  {
   "cell_type": "markdown",
   "id": "2b02fa16",
   "metadata": {},
   "source": [
    "## Heartrate"
   ]
  },
  {
   "cell_type": "code",
   "execution_count": 5,
   "id": "f8238037",
   "metadata": {},
   "outputs": [
    {
     "data": {
      "text/html": [
       "<div>\n",
       "<style scoped>\n",
       "    .dataframe tbody tr th:only-of-type {\n",
       "        vertical-align: middle;\n",
       "    }\n",
       "\n",
       "    .dataframe tbody tr th {\n",
       "        vertical-align: top;\n",
       "    }\n",
       "\n",
       "    .dataframe thead th {\n",
       "        text-align: right;\n",
       "    }\n",
       "</style>\n",
       "<table border=\"1\" class=\"dataframe\">\n",
       "  <thead>\n",
       "    <tr style=\"text-align: right;\">\n",
       "      <th></th>\n",
       "      <th>heartRate</th>\n",
       "    </tr>\n",
       "    <tr>\n",
       "      <th>Date/Time</th>\n",
       "      <th></th>\n",
       "    </tr>\n",
       "  </thead>\n",
       "  <tbody>\n",
       "    <tr>\n",
       "      <th>2022-01-06 00:15:00</th>\n",
       "      <td>65</td>\n",
       "    </tr>\n",
       "    <tr>\n",
       "      <th>2022-01-06 00:16:00</th>\n",
       "      <td>75</td>\n",
       "    </tr>\n",
       "    <tr>\n",
       "      <th>2022-01-06 00:20:00</th>\n",
       "      <td>90</td>\n",
       "    </tr>\n",
       "    <tr>\n",
       "      <th>2022-01-06 00:29:00</th>\n",
       "      <td>87</td>\n",
       "    </tr>\n",
       "    <tr>\n",
       "      <th>2022-01-06 00:30:00</th>\n",
       "      <td>92</td>\n",
       "    </tr>\n",
       "  </tbody>\n",
       "</table>\n",
       "</div>"
      ],
      "text/plain": [
       "                     heartRate\n",
       "Date/Time                     \n",
       "2022-01-06 00:15:00         65\n",
       "2022-01-06 00:16:00         75\n",
       "2022-01-06 00:20:00         90\n",
       "2022-01-06 00:29:00         87\n",
       "2022-01-06 00:30:00         92"
      ]
     },
     "execution_count": 5,
     "metadata": {},
     "output_type": "execute_result"
    }
   ],
   "source": [
    "df_heart.dropna(inplace=True) #dropping invalid values\n",
    "\n",
    "df_heart['Date/Time']=pd.to_datetime(df_heart['date'] + ' ' + df_heart['time']) #Combining date and time and formatting\n",
    "\n",
    "df_heart.drop(columns=['date', 'time'], inplace=True) #Removing duplicated date and time columns\n",
    "\n",
    "df_heart=df_heart.groupby(pd.Grouper(key='Date/Time', axis=0, freq='1min')).sum() #making sure it is per minute\n",
    "\n",
    "df_heart = df_heart[df_heart.heartRate != 0] #removed values with heartrate values 0\n",
    "\n",
    "df_heart.head()"
   ]
  },
  {
   "cell_type": "markdown",
   "id": "4001b22f",
   "metadata": {},
   "source": [
    "# Merging temperature and heartrate dataframe"
   ]
  },
  {
   "cell_type": "code",
   "execution_count": 6,
   "id": "a3429cca",
   "metadata": {},
   "outputs": [
    {
     "data": {
      "text/html": [
       "<div>\n",
       "<style scoped>\n",
       "    .dataframe tbody tr th:only-of-type {\n",
       "        vertical-align: middle;\n",
       "    }\n",
       "\n",
       "    .dataframe tbody tr th {\n",
       "        vertical-align: top;\n",
       "    }\n",
       "\n",
       "    .dataframe thead th {\n",
       "        text-align: right;\n",
       "    }\n",
       "</style>\n",
       "<table border=\"1\" class=\"dataframe\">\n",
       "  <thead>\n",
       "    <tr style=\"text-align: right;\">\n",
       "      <th></th>\n",
       "      <th>I:Temperature</th>\n",
       "      <th>D:Heartrate</th>\n",
       "    </tr>\n",
       "    <tr>\n",
       "      <th>Date/Time</th>\n",
       "      <th></th>\n",
       "      <th></th>\n",
       "    </tr>\n",
       "  </thead>\n",
       "  <tbody>\n",
       "    <tr>\n",
       "      <th>2022-05-15 23:30:00</th>\n",
       "      <td>24.1</td>\n",
       "      <td>176</td>\n",
       "    </tr>\n",
       "    <tr>\n",
       "      <th>2022-05-15 23:31:00</th>\n",
       "      <td>24.0</td>\n",
       "      <td>184</td>\n",
       "    </tr>\n",
       "    <tr>\n",
       "      <th>2022-05-15 23:32:00</th>\n",
       "      <td>24.0</td>\n",
       "      <td>168</td>\n",
       "    </tr>\n",
       "    <tr>\n",
       "      <th>2022-05-15 23:33:00</th>\n",
       "      <td>24.0</td>\n",
       "      <td>184</td>\n",
       "    </tr>\n",
       "    <tr>\n",
       "      <th>2022-05-15 23:34:00</th>\n",
       "      <td>24.0</td>\n",
       "      <td>186</td>\n",
       "    </tr>\n",
       "  </tbody>\n",
       "</table>\n",
       "</div>"
      ],
      "text/plain": [
       "                     I:Temperature  D:Heartrate\n",
       "Date/Time                                      \n",
       "2022-05-15 23:30:00           24.1          176\n",
       "2022-05-15 23:31:00           24.0          184\n",
       "2022-05-15 23:32:00           24.0          168\n",
       "2022-05-15 23:33:00           24.0          184\n",
       "2022-05-15 23:34:00           24.0          186"
      ]
     },
     "execution_count": 6,
     "metadata": {},
     "output_type": "execute_result"
    }
   ],
   "source": [
    "df_final=pd.merge(df_temp, df_heart, on='Date/Time') #merging on column Date/Time (this also turns it into the index I think)\n",
    "df_final.dropna(inplace=True) #dropping any additional invalid values\n",
    "df_final.columns = ['I:Temperature', 'D:Heartrate'] #renaming columns\n",
    "df_final.head() #check if it is correct"
   ]
  },
  {
   "cell_type": "markdown",
   "id": "731c94dc",
   "metadata": {},
   "source": [
    "# Removing daytime data\n"
   ]
  },
  {
   "cell_type": "code",
   "execution_count": 7,
   "id": "569a547e",
   "metadata": {},
   "outputs": [
    {
     "data": {
      "text/html": [
       "<div>\n",
       "<style scoped>\n",
       "    .dataframe tbody tr th:only-of-type {\n",
       "        vertical-align: middle;\n",
       "    }\n",
       "\n",
       "    .dataframe tbody tr th {\n",
       "        vertical-align: top;\n",
       "    }\n",
       "\n",
       "    .dataframe thead th {\n",
       "        text-align: right;\n",
       "    }\n",
       "</style>\n",
       "<table border=\"1\" class=\"dataframe\">\n",
       "  <thead>\n",
       "    <tr style=\"text-align: right;\">\n",
       "      <th></th>\n",
       "      <th>I:Temperature</th>\n",
       "      <th>D:Heartrate</th>\n",
       "    </tr>\n",
       "    <tr>\n",
       "      <th>Date/Time</th>\n",
       "      <th></th>\n",
       "      <th></th>\n",
       "    </tr>\n",
       "  </thead>\n",
       "  <tbody>\n",
       "    <tr>\n",
       "      <th>2022-05-16 01:00:00</th>\n",
       "      <td>23.5</td>\n",
       "      <td>168</td>\n",
       "    </tr>\n",
       "    <tr>\n",
       "      <th>2022-05-16 01:01:00</th>\n",
       "      <td>23.5</td>\n",
       "      <td>162</td>\n",
       "    </tr>\n",
       "    <tr>\n",
       "      <th>2022-05-16 01:02:00</th>\n",
       "      <td>23.5</td>\n",
       "      <td>166</td>\n",
       "    </tr>\n",
       "    <tr>\n",
       "      <th>2022-05-16 01:03:00</th>\n",
       "      <td>23.5</td>\n",
       "      <td>168</td>\n",
       "    </tr>\n",
       "    <tr>\n",
       "      <th>2022-05-16 01:04:00</th>\n",
       "      <td>23.5</td>\n",
       "      <td>156</td>\n",
       "    </tr>\n",
       "  </tbody>\n",
       "</table>\n",
       "</div>"
      ],
      "text/plain": [
       "                     I:Temperature  D:Heartrate\n",
       "Date/Time                                      \n",
       "2022-05-16 01:00:00           23.5          168\n",
       "2022-05-16 01:01:00           23.5          162\n",
       "2022-05-16 01:02:00           23.5          166\n",
       "2022-05-16 01:03:00           23.5          168\n",
       "2022-05-16 01:04:00           23.5          156"
      ]
     },
     "execution_count": 7,
     "metadata": {},
     "output_type": "execute_result"
    }
   ],
   "source": [
    "start = datetime.strptime('01:00:00', '%H:%M:%S').time() \n",
    "end = datetime.strptime('06:00:00', '%H:%M:%S').time() \n",
    "df_final['Date/Time'] = df_final.index\n",
    "df_final = df_final[df_final['Date/Time'].dt.time.between(start, end)] \n",
    "df_final.drop(columns=['Date/Time'], inplace=True) #Removing duplicated date and time column\n",
    "\n",
    "df_final.head() #check if it is correct"
   ]
  },
  {
   "cell_type": "markdown",
   "id": "15fb13fa",
   "metadata": {},
   "source": [
    "# Exporting dataframe (and create plot)\n",
    "This will export the necessary csv to be reimported with all the other samples to create a single file (plus it creates a neat diagram)"
   ]
  },
  {
   "cell_type": "code",
   "execution_count": 8,
   "id": "198a59f3",
   "metadata": {},
   "outputs": [
    {
     "data": {
      "image/png": "[encoded data removed]",
      "text/plain": [
       "<Figure size 864x360 with 1 Axes>"
      ]
     },
     "metadata": {},
     "output_type": "display_data"
    }
   ],
   "source": [
    "sns.scatterplot(data=df_final, x='I:Temperature', y='D:Heartrate') #the plot\n",
    "\n",
    "df_final.to_csv('./datasets/final.csv')  #exporting"
   ]
  }
 ],
 "metadata": {
  "kernelspec": {
   "display_name": "Python 3",
   "language": "python",
   "name": "python3"
  },
  "language_info": {
   "codemirror_mode": {
    "name": "ipython",
    "version": 3
   },
   "file_extension": ".py",
   "mimetype": "text/x-python",
   "name": "python",
   "nbconvert_exporter": "python",
   "pygments_lexer": "ipython3",
   "version": "3.8.8"
  },
  "toc": {
   "base_numbering": 1,
   "nav_menu": {},
   "number_sections": true,
   "sideBar": true,
   "skip_h1_title": false,
   "title_cell": "Table of Contents",
   "title_sidebar": "Contents",
   "toc_cell": false,
   "toc_position": {},
   "toc_section_display": true,
   "toc_window_display": false
  }
 },
 "nbformat": 4,
 "nbformat_minor": 5
}
